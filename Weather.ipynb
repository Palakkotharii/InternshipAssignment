{
 "cells": [
  {
   "cell_type": "code",
   "execution_count": 1,
   "id": "061dc66f",
   "metadata": {},
   "outputs": [
    {
     "name": "stdout",
     "output_type": "stream",
     "text": [
      "Requirement already satisfied: requests in c:\\users\\palak\\anaconda3\\lib\\site-packages (2.31.0)\n",
      "Requirement already satisfied: charset-normalizer<4,>=2 in c:\\users\\palak\\anaconda3\\lib\\site-packages (from requests) (2.0.4)\n",
      "Requirement already satisfied: idna<4,>=2.5 in c:\\users\\palak\\anaconda3\\lib\\site-packages (from requests) (3.4)\n",
      "Requirement already satisfied: urllib3<3,>=1.21.1 in c:\\users\\palak\\anaconda3\\lib\\site-packages (from requests) (1.26.16)\n",
      "Requirement already satisfied: certifi>=2017.4.17 in c:\\users\\palak\\anaconda3\\lib\\site-packages (from requests) (2023.7.22)\n",
      "Note: you may need to restart the kernel to use updated packages.\n"
     ]
    }
   ],
   "source": [
    "pip install requests"
   ]
  },
  {
   "cell_type": "code",
   "execution_count": 3,
   "id": "0bcf8521",
   "metadata": {},
   "outputs": [
    {
     "name": "stdout",
     "output_type": "stream",
     "text": [
      "Enter the city name: Pune\n",
      "Error 401: Invalid API key. Please see https://openweathermap.org/faq#error401 for more info.\n"
     ]
    }
   ],
   "source": [
    "import requests\n",
    "\n",
    "def get_weather(api_key, city):\n",
    "    base_url = \"http://api.openweathermap.org/data/2.5/weather\"\n",
    "    params = {\"q\": city, \"appid\": api_key, \"units\": \"metric\"}  # Use \"imperial\" for Fahrenheit\n",
    "\n",
    "    try:\n",
    "        response = requests.get(base_url, params=params)\n",
    "        data = response.json()\n",
    "\n",
    "        if response.status_code == 200:\n",
    "            weather_info = {\n",
    "                \"temperature\": data[\"main\"][\"temp\"],\n",
    "                \"description\": data[\"weather\"][0][\"description\"],\n",
    "                \"humidity\": data[\"main\"][\"humidity\"],\n",
    "                \"wind_speed\": data[\"wind\"][\"speed\"]\n",
    "            }\n",
    "            return weather_info\n",
    "        else:\n",
    "            return {\"error\": f\"Error {response.status_code}: {data['message']}\"}\n",
    "\n",
    "    except Exception as e:\n",
    "        return {\"error\": f\"An error occurred: {str(e)}\"}\n",
    "\n",
    "def main():\n",
    "    api_key = \"ff4e5e4fd58703a6cba834b9792978e9\"\n",
    "    city = input(\"Enter the city name: \")\n",
    "\n",
    "    weather_info = get_weather(api_key, city)\n",
    "\n",
    "    if \"error\" in weather_info:\n",
    "        print(weather_info[\"error\"])\n",
    "    else:\n",
    "        print(f\"Weather in {city}:\")\n",
    "        print(f\"Temperature: {weather_info['temperature']}°C\")\n",
    "        print(f\"Description: {weather_info['description']}\")\n",
    "        print(f\"Humidity: {weather_info['humidity']}%\")\n",
    "        print(f\"Wind Speed: {weather_info['wind_speed']} m/s\")\n",
    "\n",
    "if __name__ == \"__main__\":\n",
    "    main()\n"
   ]
  },
  {
   "cell_type": "code",
   "execution_count": null,
   "id": "b2449f68",
   "metadata": {},
   "outputs": [],
   "source": []
  }
 ],
 "metadata": {
  "kernelspec": {
   "display_name": "Python 3 (ipykernel)",
   "language": "python",
   "name": "python3"
  },
  "language_info": {
   "codemirror_mode": {
    "name": "ipython",
    "version": 3
   },
   "file_extension": ".py",
   "mimetype": "text/x-python",
   "name": "python",
   "nbconvert_exporter": "python",
   "pygments_lexer": "ipython3",
   "version": "3.11.5"
  }
 },
 "nbformat": 4,
 "nbformat_minor": 5
}
